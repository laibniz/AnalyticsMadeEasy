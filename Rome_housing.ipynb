{
  "nbformat": 4,
  "nbformat_minor": 0,
  "metadata": {
    "colab": {
      "name": "Rome_housing2.ipynb",
      "provenance": [],
      "mount_file_id": "1pekR7EMfgKNx1rMbbTXhvwh3sT3nNlPj",
      "authorship_tag": "ABX9TyMCxieZGi3HMxqa6VGfIxLs",
      "include_colab_link": true
    },
    "kernelspec": {
      "name": "python3",
      "display_name": "Python 3"
    },
    "language_info": {
      "name": "python"
    }
  },
  "cells": [
    {
      "cell_type": "markdown",
      "metadata": {
        "id": "view-in-github",
        "colab_type": "text"
      },
      "source": [
        "<a href=\"https://colab.research.google.com/github/laibniz/AnalyticsMadeEasy/blob/main/Rome_housing.ipynb\" target=\"_parent\"><img src=\"https://colab.research.google.com/assets/colab-badge.svg\" alt=\"Open In Colab\"/></a>"
      ]
    },
    {
      "cell_type": "code",
      "metadata": {
        "id": "W7FxnrFeMTgE"
      },
      "source": [
        "# Load libraries\n",
        "import pandas as pd\n",
        "import numpy as np\n",
        "import statsmodels.api as sm\n",
        "#from sklearn.linear_model import LinearRegression # Import linear regression algorithm\n",
        "from sklearn.model_selection import train_test_split # Import partitioning function\n",
        "#from sklearn import metrics # Import scoring functions\n",
        "from sklearn.metrics import r2_score, mean_squared_error # Import scoring functions"
      ],
      "execution_count": 30,
      "outputs": []
    },
    {
      "cell_type": "code",
      "metadata": {
        "id": "rBWBwSAoNAzA"
      },
      "source": [
        "# Load full data from CSV file\n",
        "full_data = pd.read_excel(\"RomeHousing-History.xlsx\")"
      ],
      "execution_count": 31,
      "outputs": []
    },
    {
      "cell_type": "code",
      "metadata": {
        "colab": {
          "base_uri": "https://localhost:8080/",
          "height": 205
        },
        "id": "u3VjLKZCNVnJ",
        "outputId": "eaf2c7aa-1473-499f-86ff-959b81cdab47"
      },
      "source": [
        "# Preview of data\n",
        "full_data.head()"
      ],
      "execution_count": 32,
      "outputs": [
        {
          "output_type": "execute_result",
          "data": {
            "text/html": [
              "<div>\n",
              "<style scoped>\n",
              "    .dataframe tbody tr th:only-of-type {\n",
              "        vertical-align: middle;\n",
              "    }\n",
              "\n",
              "    .dataframe tbody tr th {\n",
              "        vertical-align: top;\n",
              "    }\n",
              "\n",
              "    .dataframe thead th {\n",
              "        text-align: right;\n",
              "    }\n",
              "</style>\n",
              "<table border=\"1\" class=\"dataframe\">\n",
              "  <thead>\n",
              "    <tr style=\"text-align: right;\">\n",
              "      <th></th>\n",
              "      <th>House_ID</th>\n",
              "      <th>Neighborhood</th>\n",
              "      <th>Property_type</th>\n",
              "      <th>Rooms</th>\n",
              "      <th>Surface</th>\n",
              "      <th>Elevator</th>\n",
              "      <th>Floor_type</th>\n",
              "      <th>Floor_number</th>\n",
              "      <th>Rent</th>\n",
              "    </tr>\n",
              "  </thead>\n",
              "  <tbody>\n",
              "    <tr>\n",
              "      <th>0</th>\n",
              "      <td>103501</td>\n",
              "      <td>Cassia</td>\n",
              "      <td>Flat</td>\n",
              "      <td>2</td>\n",
              "      <td>65</td>\n",
              "      <td>0</td>\n",
              "      <td>Upper</td>\n",
              "      <td>2.0</td>\n",
              "      <td>900</td>\n",
              "    </tr>\n",
              "    <tr>\n",
              "      <th>1</th>\n",
              "      <td>105122</td>\n",
              "      <td>Collatino</td>\n",
              "      <td>Flat</td>\n",
              "      <td>2</td>\n",
              "      <td>30</td>\n",
              "      <td>1</td>\n",
              "      <td>Ground floor</td>\n",
              "      <td>0.0</td>\n",
              "      <td>500</td>\n",
              "    </tr>\n",
              "    <tr>\n",
              "      <th>2</th>\n",
              "      <td>104125</td>\n",
              "      <td>Collatino</td>\n",
              "      <td>Flat</td>\n",
              "      <td>3</td>\n",
              "      <td>80</td>\n",
              "      <td>1</td>\n",
              "      <td>Upper</td>\n",
              "      <td>4.0</td>\n",
              "      <td>950</td>\n",
              "    </tr>\n",
              "    <tr>\n",
              "      <th>3</th>\n",
              "      <td>104675</td>\n",
              "      <td>Infernetto</td>\n",
              "      <td>Flat</td>\n",
              "      <td>3</td>\n",
              "      <td>75</td>\n",
              "      <td>0</td>\n",
              "      <td>Upper</td>\n",
              "      <td>2.0</td>\n",
              "      <td>800</td>\n",
              "    </tr>\n",
              "    <tr>\n",
              "      <th>4</th>\n",
              "      <td>102481</td>\n",
              "      <td>Ostia</td>\n",
              "      <td>Flat</td>\n",
              "      <td>3</td>\n",
              "      <td>70</td>\n",
              "      <td>1</td>\n",
              "      <td>Ground floor</td>\n",
              "      <td>0.0</td>\n",
              "      <td>800</td>\n",
              "    </tr>\n",
              "  </tbody>\n",
              "</table>\n",
              "</div>"
            ],
            "text/plain": [
              "   House_ID Neighborhood Property_type  ...    Floor_type  Floor_number  Rent\n",
              "0    103501       Cassia          Flat  ...         Upper           2.0   900\n",
              "1    105122    Collatino          Flat  ...  Ground floor           0.0   500\n",
              "2    104125    Collatino          Flat  ...         Upper           4.0   950\n",
              "3    104675   Infernetto          Flat  ...         Upper           2.0   800\n",
              "4    102481        Ostia          Flat  ...  Ground floor           0.0   800\n",
              "\n",
              "[5 rows x 9 columns]"
            ]
          },
          "metadata": {
            "tags": []
          },
          "execution_count": 32
        }
      ]
    },
    {
      "cell_type": "code",
      "metadata": {
        "id": "pcSIej_aNYXX"
      },
      "source": [
        "# Handle categorical columns\n",
        "full_data=pd.get_dummies(full_data,drop_first=True)"
      ],
      "execution_count": 33,
      "outputs": []
    },
    {
      "cell_type": "code",
      "metadata": {
        "id": "4Yyq4t57VqjR"
      },
      "source": [
        "# Add constant\n",
        "full_data = sm.add_constant(full_data)"
      ],
      "execution_count": 34,
      "outputs": []
    },
    {
      "cell_type": "code",
      "metadata": {
        "colab": {
          "base_uri": "https://localhost:8080/",
          "height": 243
        },
        "id": "J1P6iGNBNrOf",
        "outputId": "6e969d53-45da-4aef-8672-b5bf4462c8e0"
      },
      "source": [
        "# Preview of data\n",
        "full_data.head()"
      ],
      "execution_count": 35,
      "outputs": [
        {
          "output_type": "execute_result",
          "data": {
            "text/html": [
              "<div>\n",
              "<style scoped>\n",
              "    .dataframe tbody tr th:only-of-type {\n",
              "        vertical-align: middle;\n",
              "    }\n",
              "\n",
              "    .dataframe tbody tr th {\n",
              "        vertical-align: top;\n",
              "    }\n",
              "\n",
              "    .dataframe thead th {\n",
              "        text-align: right;\n",
              "    }\n",
              "</style>\n",
              "<table border=\"1\" class=\"dataframe\">\n",
              "  <thead>\n",
              "    <tr style=\"text-align: right;\">\n",
              "      <th></th>\n",
              "      <th>const</th>\n",
              "      <th>House_ID</th>\n",
              "      <th>Rooms</th>\n",
              "      <th>Surface</th>\n",
              "      <th>Elevator</th>\n",
              "      <th>Floor_number</th>\n",
              "      <th>Rent</th>\n",
              "      <th>Neighborhood_Cassia</th>\n",
              "      <th>Neighborhood_Castelli Romani</th>\n",
              "      <th>Neighborhood_Cinecittà</th>\n",
              "      <th>Neighborhood_Collatino</th>\n",
              "      <th>Neighborhood_EUR</th>\n",
              "      <th>Neighborhood_Infernetto</th>\n",
              "      <th>Neighborhood_Magliana</th>\n",
              "      <th>Neighborhood_Marconi</th>\n",
              "      <th>Neighborhood_Montagnola</th>\n",
              "      <th>Neighborhood_Monte sacro</th>\n",
              "      <th>Neighborhood_Monti</th>\n",
              "      <th>Neighborhood_Ostia</th>\n",
              "      <th>Neighborhood_Parioli</th>\n",
              "      <th>Neighborhood_Piazza Navona</th>\n",
              "      <th>Neighborhood_Portuense</th>\n",
              "      <th>Neighborhood_Prati</th>\n",
              "      <th>Neighborhood_Termini</th>\n",
              "      <th>Neighborhood_Testaccio</th>\n",
              "      <th>Neighborhood_Trastevere</th>\n",
              "      <th>Neighborhood_Trigoria</th>\n",
              "      <th>Property_type_House</th>\n",
              "      <th>Property_type_Penthouse</th>\n",
              "      <th>Property_type_Villa</th>\n",
              "      <th>Floor_type_Mezzanine</th>\n",
              "      <th>Floor_type_Upper</th>\n",
              "    </tr>\n",
              "  </thead>\n",
              "  <tbody>\n",
              "    <tr>\n",
              "      <th>0</th>\n",
              "      <td>1.0</td>\n",
              "      <td>103501</td>\n",
              "      <td>2</td>\n",
              "      <td>65</td>\n",
              "      <td>0</td>\n",
              "      <td>2.0</td>\n",
              "      <td>900</td>\n",
              "      <td>1</td>\n",
              "      <td>0</td>\n",
              "      <td>0</td>\n",
              "      <td>0</td>\n",
              "      <td>0</td>\n",
              "      <td>0</td>\n",
              "      <td>0</td>\n",
              "      <td>0</td>\n",
              "      <td>0</td>\n",
              "      <td>0</td>\n",
              "      <td>0</td>\n",
              "      <td>0</td>\n",
              "      <td>0</td>\n",
              "      <td>0</td>\n",
              "      <td>0</td>\n",
              "      <td>0</td>\n",
              "      <td>0</td>\n",
              "      <td>0</td>\n",
              "      <td>0</td>\n",
              "      <td>0</td>\n",
              "      <td>0</td>\n",
              "      <td>0</td>\n",
              "      <td>0</td>\n",
              "      <td>0</td>\n",
              "      <td>1</td>\n",
              "    </tr>\n",
              "    <tr>\n",
              "      <th>1</th>\n",
              "      <td>1.0</td>\n",
              "      <td>105122</td>\n",
              "      <td>2</td>\n",
              "      <td>30</td>\n",
              "      <td>1</td>\n",
              "      <td>0.0</td>\n",
              "      <td>500</td>\n",
              "      <td>0</td>\n",
              "      <td>0</td>\n",
              "      <td>0</td>\n",
              "      <td>1</td>\n",
              "      <td>0</td>\n",
              "      <td>0</td>\n",
              "      <td>0</td>\n",
              "      <td>0</td>\n",
              "      <td>0</td>\n",
              "      <td>0</td>\n",
              "      <td>0</td>\n",
              "      <td>0</td>\n",
              "      <td>0</td>\n",
              "      <td>0</td>\n",
              "      <td>0</td>\n",
              "      <td>0</td>\n",
              "      <td>0</td>\n",
              "      <td>0</td>\n",
              "      <td>0</td>\n",
              "      <td>0</td>\n",
              "      <td>0</td>\n",
              "      <td>0</td>\n",
              "      <td>0</td>\n",
              "      <td>0</td>\n",
              "      <td>0</td>\n",
              "    </tr>\n",
              "    <tr>\n",
              "      <th>2</th>\n",
              "      <td>1.0</td>\n",
              "      <td>104125</td>\n",
              "      <td>3</td>\n",
              "      <td>80</td>\n",
              "      <td>1</td>\n",
              "      <td>4.0</td>\n",
              "      <td>950</td>\n",
              "      <td>0</td>\n",
              "      <td>0</td>\n",
              "      <td>0</td>\n",
              "      <td>1</td>\n",
              "      <td>0</td>\n",
              "      <td>0</td>\n",
              "      <td>0</td>\n",
              "      <td>0</td>\n",
              "      <td>0</td>\n",
              "      <td>0</td>\n",
              "      <td>0</td>\n",
              "      <td>0</td>\n",
              "      <td>0</td>\n",
              "      <td>0</td>\n",
              "      <td>0</td>\n",
              "      <td>0</td>\n",
              "      <td>0</td>\n",
              "      <td>0</td>\n",
              "      <td>0</td>\n",
              "      <td>0</td>\n",
              "      <td>0</td>\n",
              "      <td>0</td>\n",
              "      <td>0</td>\n",
              "      <td>0</td>\n",
              "      <td>1</td>\n",
              "    </tr>\n",
              "    <tr>\n",
              "      <th>3</th>\n",
              "      <td>1.0</td>\n",
              "      <td>104675</td>\n",
              "      <td>3</td>\n",
              "      <td>75</td>\n",
              "      <td>0</td>\n",
              "      <td>2.0</td>\n",
              "      <td>800</td>\n",
              "      <td>0</td>\n",
              "      <td>0</td>\n",
              "      <td>0</td>\n",
              "      <td>0</td>\n",
              "      <td>0</td>\n",
              "      <td>1</td>\n",
              "      <td>0</td>\n",
              "      <td>0</td>\n",
              "      <td>0</td>\n",
              "      <td>0</td>\n",
              "      <td>0</td>\n",
              "      <td>0</td>\n",
              "      <td>0</td>\n",
              "      <td>0</td>\n",
              "      <td>0</td>\n",
              "      <td>0</td>\n",
              "      <td>0</td>\n",
              "      <td>0</td>\n",
              "      <td>0</td>\n",
              "      <td>0</td>\n",
              "      <td>0</td>\n",
              "      <td>0</td>\n",
              "      <td>0</td>\n",
              "      <td>0</td>\n",
              "      <td>1</td>\n",
              "    </tr>\n",
              "    <tr>\n",
              "      <th>4</th>\n",
              "      <td>1.0</td>\n",
              "      <td>102481</td>\n",
              "      <td>3</td>\n",
              "      <td>70</td>\n",
              "      <td>1</td>\n",
              "      <td>0.0</td>\n",
              "      <td>800</td>\n",
              "      <td>0</td>\n",
              "      <td>0</td>\n",
              "      <td>0</td>\n",
              "      <td>0</td>\n",
              "      <td>0</td>\n",
              "      <td>0</td>\n",
              "      <td>0</td>\n",
              "      <td>0</td>\n",
              "      <td>0</td>\n",
              "      <td>0</td>\n",
              "      <td>0</td>\n",
              "      <td>1</td>\n",
              "      <td>0</td>\n",
              "      <td>0</td>\n",
              "      <td>0</td>\n",
              "      <td>0</td>\n",
              "      <td>0</td>\n",
              "      <td>0</td>\n",
              "      <td>0</td>\n",
              "      <td>0</td>\n",
              "      <td>0</td>\n",
              "      <td>0</td>\n",
              "      <td>0</td>\n",
              "      <td>0</td>\n",
              "      <td>0</td>\n",
              "    </tr>\n",
              "  </tbody>\n",
              "</table>\n",
              "</div>"
            ],
            "text/plain": [
              "   const  House_ID  ...  Floor_type_Mezzanine  Floor_type_Upper\n",
              "0    1.0    103501  ...                     0                 1\n",
              "1    1.0    105122  ...                     0                 0\n",
              "2    1.0    104125  ...                     0                 1\n",
              "3    1.0    104675  ...                     0                 1\n",
              "4    1.0    102481  ...                     0                 0\n",
              "\n",
              "[5 rows x 32 columns]"
            ]
          },
          "metadata": {
            "tags": []
          },
          "execution_count": 35
        }
      ]
    },
    {
      "cell_type": "code",
      "metadata": {
        "id": "g2U_U66pN6Sg"
      },
      "source": [
        "# Split columns in features (X) and target variable (y)\n",
        "X = full_data.drop('Rent',axis=1)\n",
        "y = full_data['Rent']"
      ],
      "execution_count": 36,
      "outputs": []
    },
    {
      "cell_type": "code",
      "metadata": {
        "id": "UG-4TBmPOf7C"
      },
      "source": [
        "# Partition full_data into training and test sets\n",
        "X_train, X_test, y_train, y_test = train_test_split(X, y, test_size=0.3) # 70% training and 30% test"
      ],
      "execution_count": 37,
      "outputs": []
    },
    {
      "cell_type": "code",
      "metadata": {
        "id": "4pJlO88NOqJQ"
      },
      "source": [
        "# Create an object of Linear Regression class\n",
        "LR = LinearRegression()\n",
        "# Train the model\n",
        "model = sm.OLS(y_train, X_train).fit()"
      ],
      "execution_count": 38,
      "outputs": []
    },
    {
      "cell_type": "code",
      "metadata": {
        "colab": {
          "base_uri": "https://localhost:8080/"
        },
        "id": "be0wVQ5HW054",
        "outputId": "65cece3a-fa08-42dc-a6b9-6c082286b6d2"
      },
      "source": [
        "print(model.summary())"
      ],
      "execution_count": 39,
      "outputs": [
        {
          "output_type": "stream",
          "text": [
            "                            OLS Regression Results                            \n",
            "==============================================================================\n",
            "Dep. Variable:                   Rent   R-squared:                       0.931\n",
            "Model:                            OLS   Adj. R-squared:                  0.930\n",
            "Method:                 Least Squares   F-statistic:                     1246.\n",
            "Date:                Sat, 24 Jul 2021   Prob (F-statistic):               0.00\n",
            "Time:                        16:39:44   Log-Likelihood:                -17154.\n",
            "No. Observations:                2800   AIC:                         3.437e+04\n",
            "Df Residuals:                    2769   BIC:                         3.455e+04\n",
            "Df Model:                          30                                         \n",
            "Covariance Type:            nonrobust                                         \n",
            "================================================================================================\n",
            "                                   coef    std err          t      P>|t|      [0.025      0.975]\n",
            "------------------------------------------------------------------------------------------------\n",
            "const                          871.6042    194.909      4.472      0.000     489.422    1253.786\n",
            "House_ID                        -0.0029      0.002     -1.536      0.125      -0.007       0.001\n",
            "Rooms                           22.2095      4.073      5.453      0.000      14.223      30.196\n",
            "Surface                          9.6423      0.134     71.701      0.000       9.379       9.906\n",
            "Elevator                        -3.2511      4.652     -0.699      0.485     -12.373       5.870\n",
            "Floor_number                     5.7808      1.540      3.753      0.000       2.761       8.801\n",
            "Neighborhood_Cassia           -360.2200     22.342    -16.123      0.000    -404.030    -316.410\n",
            "Neighborhood_Castelli Romani  -699.0668     21.801    -32.065      0.000    -741.815    -656.318\n",
            "Neighborhood_Cinecittà        -577.6718     21.991    -26.268      0.000    -620.792    -534.551\n",
            "Neighborhood_Collatino        -560.4605     22.126    -25.330      0.000    -603.846    -517.075\n",
            "Neighborhood_EUR              -412.1731     26.972    -15.282      0.000    -465.060    -359.286\n",
            "Neighborhood_Infernetto       -615.7512     22.783    -27.027      0.000    -660.425    -571.078\n",
            "Neighborhood_Magliana         -630.3297     33.489    -18.822      0.000    -695.996    -564.664\n",
            "Neighborhood_Marconi          -496.1207     24.725    -20.066      0.000    -544.602    -447.640\n",
            "Neighborhood_Montagnola       -471.5050     24.712    -19.080      0.000    -519.961    -423.049\n",
            "Neighborhood_Monte sacro      -516.5963     22.202    -23.268      0.000    -560.131    -473.062\n",
            "Neighborhood_Monti            -107.4333     22.825     -4.707      0.000    -152.190     -62.677\n",
            "Neighborhood_Ostia            -553.6016     26.074    -21.232      0.000    -604.729    -502.475\n",
            "Neighborhood_Parioli          -202.9664     21.634     -9.382      0.000    -245.388    -160.545\n",
            "Neighborhood_Piazza Navona     236.1756     21.931     10.769      0.000     193.174     279.177\n",
            "Neighborhood_Portuense        -494.8886     29.860    -16.574      0.000    -553.438    -436.339\n",
            "Neighborhood_Prati            -174.7247     21.970     -7.953      0.000    -217.804    -131.645\n",
            "Neighborhood_Termini          -248.8643     23.481    -10.599      0.000    -294.906    -202.823\n",
            "Neighborhood_Testaccio        -201.9465     29.090     -6.942      0.000    -258.987    -144.906\n",
            "Neighborhood_Trastevere        -51.6824     23.684     -2.182      0.029     -98.122      -5.243\n",
            "Neighborhood_Trigoria         -518.6195     27.293    -19.002      0.000    -572.137    -465.102\n",
            "Property_type_House            -25.1784     32.522     -0.774      0.439     -88.948      38.592\n",
            "Property_type_Penthouse         11.5678     11.806      0.980      0.327     -11.582      34.718\n",
            "Property_type_Villa            -13.6514     40.261     -0.339      0.735     -92.597      65.294\n",
            "Floor_type_Mezzanine            27.2535     11.442      2.382      0.017       4.818      49.689\n",
            "Floor_type_Upper                18.0432      7.210      2.503      0.012       3.906      32.181\n",
            "==============================================================================\n",
            "Omnibus:                      155.950   Durbin-Watson:                   2.007\n",
            "Prob(Omnibus):                  0.000   Jarque-Bera (JB):              475.296\n",
            "Skew:                          -0.239   Prob(JB):                    6.18e-104\n",
            "Kurtosis:                       4.961   Cond. No.                     9.65e+06\n",
            "==============================================================================\n",
            "\n",
            "Warnings:\n",
            "[1] Standard Errors assume that the covariance matrix of the errors is correctly specified.\n",
            "[2] The condition number is large, 9.65e+06. This might indicate that there are\n",
            "strong multicollinearity or other numerical problems.\n"
          ],
          "name": "stdout"
        }
      ]
    },
    {
      "cell_type": "code",
      "metadata": {
        "id": "YquXGCxcXiW5"
      },
      "source": [
        "y_pred =  model.predict(X_test) # predict target on Test set"
      ],
      "execution_count": 40,
      "outputs": []
    },
    {
      "cell_type": "code",
      "metadata": {
        "colab": {
          "base_uri": "https://localhost:8080/"
        },
        "id": "qGnT7tEvPJpY",
        "outputId": "474e5949-28a7-4595-ef92-7bd78e8b0cea"
      },
      "source": [
        "# Calculate scoring metrics on test set\n",
        "print('r2 score is ',r2_score(y_test,y_pred))\n",
        "print('root_mean_squared error is ',np.sqrt(mean_squared_error(y_test,y_pred)))"
      ],
      "execution_count": 41,
      "outputs": [
        {
          "output_type": "stream",
          "text": [
            "r2 score is  0.9215572677087004\n",
            "root_mean_squared error of is  111.50237499193386\n"
          ],
          "name": "stdout"
        }
      ]
    }
  ]
}