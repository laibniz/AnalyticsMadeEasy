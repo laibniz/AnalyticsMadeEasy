{
  "nbformat": 4,
  "nbformat_minor": 0,
  "metadata": {
    "colab": {
      "name": "Rome_housing - simplified.ipynb",
      "provenance": [],
      "collapsed_sections": [],
      "mount_file_id": "1pekR7EMfgKNx1rMbbTXhvwh3sT3nNlPj",
      "authorship_tag": "ABX9TyMkxyiA+bAkuz4Y1oosZv2Q",
      "include_colab_link": true
    },
    "kernelspec": {
      "name": "python3",
      "display_name": "Python 3"
    },
    "language_info": {
      "name": "python"
    }
  },
  "cells": [
    {
      "cell_type": "markdown",
      "metadata": {
        "id": "view-in-github",
        "colab_type": "text"
      },
      "source": [
        "<a href=\"https://colab.research.google.com/github/laibniz/AnalyticsMadeEasy/blob/main/Rome_housing.ipynb\" target=\"_parent\"><img src=\"https://colab.research.google.com/assets/colab-badge.svg\" alt=\"Open In Colab\"/></a>"
      ]
    },
    {
      "cell_type": "markdown",
      "metadata": {
        "id": "2VJSpt7InUhd"
      },
      "source": [
        "The first step is to import some useful libraries into the Python environment. This will make a few extra functionalities (like loading Excel files and calculating a linear regression) available for us to leverage in our code. "
      ]
    },
    {
      "cell_type": "code",
      "metadata": {
        "id": "W7FxnrFeMTgE"
      },
      "source": [
        "import pandas as pd # Import library for data manipulation\n",
        "import numpy as np # Import library for mathematical functions\n",
        "import statsmodels.formula.api as smf # Import library for statistical modeling\n",
        "from sklearn.model_selection import train_test_split # Import partitioning function\n",
        "from sklearn.metrics import r2_score, mean_squared_error # Import scoring functions"
      ],
      "execution_count": 46,
      "outputs": []
    },
    {
      "cell_type": "markdown",
      "metadata": {
        "id": "kAzblNZxodQs"
      },
      "source": [
        "We read the data stored in an Excel file by using the `pd.read_excel()` function. We can check the imported table by visualizing its top five rows, using function `head()`."
      ]
    },
    {
      "cell_type": "code",
      "metadata": {
        "id": "rBWBwSAoNAzA",
        "colab": {
          "base_uri": "https://localhost:8080/",
          "height": 205
        },
        "outputId": "89ae6e83-531e-4fae-a384-7e4f8e99a595"
      },
      "source": [
        "full_data = pd.read_excel(\"https://github.com/laibniz/AnalyticsMadeEasy/raw/main/RomeHousing-History.xlsx\") # Load full data from Excel\n",
        "full_data.head() # Preview of data"
      ],
      "execution_count": 47,
      "outputs": [
        {
          "output_type": "execute_result",
          "data": {
            "text/html": [
              "<div>\n",
              "<style scoped>\n",
              "    .dataframe tbody tr th:only-of-type {\n",
              "        vertical-align: middle;\n",
              "    }\n",
              "\n",
              "    .dataframe tbody tr th {\n",
              "        vertical-align: top;\n",
              "    }\n",
              "\n",
              "    .dataframe thead th {\n",
              "        text-align: right;\n",
              "    }\n",
              "</style>\n",
              "<table border=\"1\" class=\"dataframe\">\n",
              "  <thead>\n",
              "    <tr style=\"text-align: right;\">\n",
              "      <th></th>\n",
              "      <th>House_ID</th>\n",
              "      <th>Neighborhood</th>\n",
              "      <th>Property_type</th>\n",
              "      <th>Rooms</th>\n",
              "      <th>Surface</th>\n",
              "      <th>Elevator</th>\n",
              "      <th>Floor_type</th>\n",
              "      <th>Floor_number</th>\n",
              "      <th>Rent</th>\n",
              "    </tr>\n",
              "  </thead>\n",
              "  <tbody>\n",
              "    <tr>\n",
              "      <th>0</th>\n",
              "      <td>103501</td>\n",
              "      <td>Cassia</td>\n",
              "      <td>Flat</td>\n",
              "      <td>2</td>\n",
              "      <td>65</td>\n",
              "      <td>0</td>\n",
              "      <td>Upper</td>\n",
              "      <td>2.0</td>\n",
              "      <td>900</td>\n",
              "    </tr>\n",
              "    <tr>\n",
              "      <th>1</th>\n",
              "      <td>105122</td>\n",
              "      <td>Collatino</td>\n",
              "      <td>Flat</td>\n",
              "      <td>2</td>\n",
              "      <td>30</td>\n",
              "      <td>1</td>\n",
              "      <td>Ground floor</td>\n",
              "      <td>0.0</td>\n",
              "      <td>500</td>\n",
              "    </tr>\n",
              "    <tr>\n",
              "      <th>2</th>\n",
              "      <td>104125</td>\n",
              "      <td>Collatino</td>\n",
              "      <td>Flat</td>\n",
              "      <td>3</td>\n",
              "      <td>80</td>\n",
              "      <td>1</td>\n",
              "      <td>Upper</td>\n",
              "      <td>4.0</td>\n",
              "      <td>950</td>\n",
              "    </tr>\n",
              "    <tr>\n",
              "      <th>3</th>\n",
              "      <td>104675</td>\n",
              "      <td>Infernetto</td>\n",
              "      <td>Flat</td>\n",
              "      <td>3</td>\n",
              "      <td>75</td>\n",
              "      <td>0</td>\n",
              "      <td>Upper</td>\n",
              "      <td>2.0</td>\n",
              "      <td>800</td>\n",
              "    </tr>\n",
              "    <tr>\n",
              "      <th>4</th>\n",
              "      <td>102481</td>\n",
              "      <td>Ostia</td>\n",
              "      <td>Flat</td>\n",
              "      <td>3</td>\n",
              "      <td>70</td>\n",
              "      <td>1</td>\n",
              "      <td>Ground floor</td>\n",
              "      <td>0.0</td>\n",
              "      <td>800</td>\n",
              "    </tr>\n",
              "  </tbody>\n",
              "</table>\n",
              "</div>"
            ],
            "text/plain": [
              "   House_ID Neighborhood Property_type  ...    Floor_type  Floor_number  Rent\n",
              "0    103501       Cassia          Flat  ...         Upper           2.0   900\n",
              "1    105122    Collatino          Flat  ...  Ground floor           0.0   500\n",
              "2    104125    Collatino          Flat  ...         Upper           4.0   950\n",
              "3    104675   Infernetto          Flat  ...         Upper           2.0   800\n",
              "4    102481        Ostia          Flat  ...  Ground floor           0.0   800\n",
              "\n",
              "[5 rows x 9 columns]"
            ]
          },
          "metadata": {
            "tags": []
          },
          "execution_count": 47
        }
      ]
    },
    {
      "cell_type": "markdown",
      "metadata": {
        "id": "bIg1jYF3pAM8"
      },
      "source": [
        "Let's partition the full data set into a training and a test data set through random sampling, leveraging the function `train_test_split()`. "
      ]
    },
    {
      "cell_type": "code",
      "metadata": {
        "id": "UG-4TBmPOf7C"
      },
      "source": [
        "train_set, test_set = train_test_split(full_data, test_size=0.3) # 70% training and 30% test partitioning"
      ],
      "execution_count": 41,
      "outputs": []
    },
    {
      "cell_type": "markdown",
      "metadata": {
        "id": "O2rVyfyOpUQU"
      },
      "source": [
        "We can now proceed with training the model through an **Ordinary Least Square** regression which is implemented in function `smf.ols()`. \n",
        "You can edit the formula string you find in the code (`Rent ~ Rooms + Surface + ...`) to select which column is the targe (in our case `Rent`) and which columns should be used as predictors in the linear regression. Categorical columns need to be encapsulated by the `C()` function (like in `C(Neighborhood)`): by doing so, Python converts them into multiple numerical columns (**Dummy variables**) that are compatible with a linear regression model. Finally, the `summary()` function produces a summary of the regression results, including coefficients and p-values for each feature."
      ]
    },
    {
      "cell_type": "code",
      "metadata": {
        "id": "4pJlO88NOqJQ",
        "colab": {
          "base_uri": "https://localhost:8080/"
        },
        "outputId": "6a873523-d1fd-4c03-af75-002b559dbdb6"
      },
      "source": [
        "model = smf.ols (formula='Rent ~ Rooms + Surface + Elevator + Floor_number + \\\n",
        "                                 C(Neighborhood) + C(Property_type) + \\\n",
        "                                 C(Floor_type)',data=train_set).fit() # Train the model\n",
        "print(model.summary()) # Display model statistics and coefficients"
      ],
      "execution_count": 42,
      "outputs": [
        {
          "output_type": "stream",
          "text": [
            "                            OLS Regression Results                            \n",
            "==============================================================================\n",
            "Dep. Variable:                   Rent   R-squared:                       0.931\n",
            "Model:                            OLS   Adj. R-squared:                  0.931\n",
            "Method:                 Least Squares   F-statistic:                     1298.\n",
            "Date:                Sun, 25 Jul 2021   Prob (F-statistic):               0.00\n",
            "Time:                        12:14:16   Log-Likelihood:                -17146.\n",
            "No. Observations:                2800   AIC:                         3.435e+04\n",
            "Df Residuals:                    2770   BIC:                         3.453e+04\n",
            "Df Model:                          29                                         \n",
            "Covariance Type:            nonrobust                                         \n",
            "======================================================================================================\n",
            "                                         coef    std err          t      P>|t|      [0.025      0.975]\n",
            "------------------------------------------------------------------------------------------------------\n",
            "Intercept                            568.0320     21.630     26.261      0.000     525.619     610.445\n",
            "C(Neighborhood)[T.Cassia]           -356.8366     21.718    -16.431      0.000    -399.421    -314.252\n",
            "C(Neighborhood)[T.Castelli Romani]  -698.0962     21.108    -33.072      0.000    -739.486    -656.706\n",
            "C(Neighborhood)[T.Cinecittà]        -571.1060     21.235    -26.895      0.000    -612.743    -529.469\n",
            "C(Neighborhood)[T.Collatino]        -550.9417     21.429    -25.710      0.000    -592.961    -508.923\n",
            "C(Neighborhood)[T.EUR]              -407.6867     26.732    -15.251      0.000    -460.104    -355.270\n",
            "C(Neighborhood)[T.Infernetto]       -605.4071     22.094    -27.402      0.000    -648.729    -562.086\n",
            "C(Neighborhood)[T.Magliana]         -613.7329     34.254    -17.917      0.000    -680.899    -546.567\n",
            "C(Neighborhood)[T.Marconi]          -492.1444     23.685    -20.779      0.000    -538.586    -445.703\n",
            "C(Neighborhood)[T.Montagnola]       -473.3042     24.079    -19.656      0.000    -520.519    -426.089\n",
            "C(Neighborhood)[T.Monte sacro]      -520.5646     21.461    -24.256      0.000    -562.647    -478.483\n",
            "C(Neighborhood)[T.Monti]            -100.0955     22.194     -4.510      0.000    -143.614     -56.577\n",
            "C(Neighborhood)[T.Ostia]            -556.6307     25.288    -22.012      0.000    -606.216    -507.046\n",
            "C(Neighborhood)[T.Parioli]          -197.2834     20.915     -9.433      0.000    -238.294    -156.273\n",
            "C(Neighborhood)[T.Piazza Navona]     243.8234     21.334     11.429      0.000     201.992     285.655\n",
            "C(Neighborhood)[T.Portuense]        -493.0205     31.047    -15.880      0.000    -553.898    -432.143\n",
            "C(Neighborhood)[T.Prati]            -168.7454     21.366     -7.898      0.000    -210.640    -126.850\n",
            "C(Neighborhood)[T.Termini]          -252.8506     23.078    -10.956      0.000    -298.103    -207.598\n",
            "C(Neighborhood)[T.Testaccio]        -194.6019     29.026     -6.704      0.000    -251.517    -137.687\n",
            "C(Neighborhood)[T.Trastevere]        -54.7466     23.245     -2.355      0.019    -100.327      -9.167\n",
            "C(Neighborhood)[T.Trigoria]         -528.5214     27.347    -19.327      0.000    -582.143    -474.899\n",
            "C(Property_type)[T.House]              0.2569     27.402      0.009      0.993     -53.474      53.988\n",
            "C(Property_type)[T.Penthouse]         21.4935     11.578      1.856      0.063      -1.208      44.195\n",
            "C(Property_type)[T.Villa]            -27.7752     45.743     -0.607      0.544    -117.470      61.919\n",
            "C(Floor_type)[T.Mezzanine]            25.0162     11.653      2.147      0.032       2.167      47.865\n",
            "C(Floor_type)[T.Upper]                26.1670      7.226      3.621      0.000      11.998      40.336\n",
            "Rooms                                 25.8898      4.023      6.436      0.000      18.002      33.778\n",
            "Surface                                9.4813      0.134     70.621      0.000       9.218       9.745\n",
            "Elevator                              -1.2941      4.627     -0.280      0.780     -10.367       7.779\n",
            "Floor_number                           4.1151      1.478      2.784      0.005       1.216       7.014\n",
            "==============================================================================\n",
            "Omnibus:                      162.694   Durbin-Watson:                   2.094\n",
            "Prob(Omnibus):                  0.000   Jarque-Bera (JB):              506.641\n",
            "Skew:                          -0.248   Prob(JB):                    9.65e-111\n",
            "Kurtosis:                       5.024   Cond. No.                     3.44e+03\n",
            "==============================================================================\n",
            "\n",
            "Warnings:\n",
            "[1] Standard Errors assume that the covariance matrix of the errors is correctly specified.\n",
            "[2] The condition number is large, 3.44e+03. This might indicate that there are\n",
            "strong multicollinearity or other numerical problems.\n"
          ],
          "name": "stdout"
        }
      ]
    },
    {
      "cell_type": "markdown",
      "metadata": {
        "id": "s5AgnBdMrtWF"
      },
      "source": [
        "It's time to predict the values of the rents in the test set (it's what function *predict()* does) and, then, calculate two metrics for scoring our regression. In particular, we can calculate:\n",
        "*   $\\text{R}^{2}$: Coefficient of determination, thanks to the function r2_score(), which takes as parameters the two columns to compare, and\n",
        "*   $\\text{RMSE}$: Root Mean Squared Error, which gives us an idea of the level of error to expect.\n",
        "\n"
      ]
    },
    {
      "cell_type": "code",
      "metadata": {
        "colab": {
          "base_uri": "https://localhost:8080/"
        },
        "id": "qGnT7tEvPJpY",
        "outputId": "f32f48a2-2c4f-41d7-a8f2-a57ff8ccbbd9"
      },
      "source": [
        "predictions =  model.predict(test_set) # Predict target on Test set\n",
        "print('R2 score is',r2_score(test_set.Rent,predictions)) # Calculate coefficient of determination\n",
        "print('Root Mean Squared Error is',np.sqrt(mean_squared_error(test_set.Rent,predictions))) # Calculate RMSE"
      ],
      "execution_count": 48,
      "outputs": [
        {
          "output_type": "stream",
          "text": [
            "R2 score is 0.9203804282221151\n",
            "Root Mean Squared Error is 112.54873737855503\n"
          ],
          "name": "stdout"
        }
      ]
    }
  ]
}