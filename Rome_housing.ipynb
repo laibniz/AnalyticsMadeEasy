{
  "nbformat": 4,
  "nbformat_minor": 0,
  "metadata": {
    "colab": {
      "name": "Rome_housing - simplified.ipynb",
      "provenance": [],
      "collapsed_sections": [],
      "mount_file_id": "1pekR7EMfgKNx1rMbbTXhvwh3sT3nNlPj",
      "authorship_tag": "ABX9TyPXYXW+1rD9VwdFrz5a07kH",
      "include_colab_link": true
    },
    "kernelspec": {
      "name": "python3",
      "display_name": "Python 3"
    },
    "language_info": {
      "name": "python"
    }
  },
  "cells": [
    {
      "cell_type": "markdown",
      "metadata": {
        "id": "view-in-github",
        "colab_type": "text"
      },
      "source": [
        "<a href=\"https://colab.research.google.com/github/laibniz/AnalyticsMadeEasy/blob/main/Rome_housing.ipynb\" target=\"_parent\"><img src=\"https://colab.research.google.com/assets/colab-badge.svg\" alt=\"Open In Colab\"/></a>"
      ]
    },
    {
      "cell_type": "markdown",
      "metadata": {
        "id": "2VJSpt7InUhd"
      },
      "source": [
        "The first step is to import some useful libraries into the Python environment. This will make a few extra functionalities (like loading Excel files and calculating a linear regression) available for us to leverage in our code. "
      ]
    },
    {
      "cell_type": "code",
      "metadata": {
        "id": "W7FxnrFeMTgE"
      },
      "source": [
        "import pandas as pd # Import library for data manipulation\n",
        "import numpy as np # Import library for mathematical functions\n",
        "import statsmodels.formula.api as smf # Import library for statistical modeling\n",
        "from sklearn.model_selection import train_test_split # Import partitioning function\n",
        "from sklearn.metrics import r2_score, mean_squared_error # Import scoring functions"
      ],
      "execution_count": 49,
      "outputs": []
    },
    {
      "cell_type": "markdown",
      "metadata": {
        "id": "kAzblNZxodQs"
      },
      "source": [
        "We read the data stored in an Excel file by using the `pd.read_excel()` function. We can check the imported table by visualizing its top five rows, using function `head()`."
      ]
    },
    {
      "cell_type": "code",
      "metadata": {
        "id": "rBWBwSAoNAzA",
        "colab": {
          "base_uri": "https://localhost:8080/",
          "height": 204
        },
        "outputId": "6ed79341-fe85-449e-a481-71c57e87f42d"
      },
      "source": [
        "full_data = pd.read_excel(\"https://github.com/laibniz/AnalyticsMadeEasy/raw/main/RomeHousing-History.xlsx\") # Load full data from Excel\n",
        "full_data.head() # Preview of data"
      ],
      "execution_count": 50,
      "outputs": [
        {
          "output_type": "execute_result",
          "data": {
            "text/html": [
              "<div>\n",
              "<style scoped>\n",
              "    .dataframe tbody tr th:only-of-type {\n",
              "        vertical-align: middle;\n",
              "    }\n",
              "\n",
              "    .dataframe tbody tr th {\n",
              "        vertical-align: top;\n",
              "    }\n",
              "\n",
              "    .dataframe thead th {\n",
              "        text-align: right;\n",
              "    }\n",
              "</style>\n",
              "<table border=\"1\" class=\"dataframe\">\n",
              "  <thead>\n",
              "    <tr style=\"text-align: right;\">\n",
              "      <th></th>\n",
              "      <th>House_ID</th>\n",
              "      <th>Neighborhood</th>\n",
              "      <th>Property_type</th>\n",
              "      <th>Rooms</th>\n",
              "      <th>Surface</th>\n",
              "      <th>Elevator</th>\n",
              "      <th>Floor_type</th>\n",
              "      <th>Floor_number</th>\n",
              "      <th>Rent</th>\n",
              "    </tr>\n",
              "  </thead>\n",
              "  <tbody>\n",
              "    <tr>\n",
              "      <th>0</th>\n",
              "      <td>103501</td>\n",
              "      <td>Cassia</td>\n",
              "      <td>Flat</td>\n",
              "      <td>2</td>\n",
              "      <td>65</td>\n",
              "      <td>0</td>\n",
              "      <td>Upper</td>\n",
              "      <td>2.0</td>\n",
              "      <td>900</td>\n",
              "    </tr>\n",
              "    <tr>\n",
              "      <th>1</th>\n",
              "      <td>105122</td>\n",
              "      <td>Collatino</td>\n",
              "      <td>Flat</td>\n",
              "      <td>2</td>\n",
              "      <td>30</td>\n",
              "      <td>1</td>\n",
              "      <td>Ground floor</td>\n",
              "      <td>0.0</td>\n",
              "      <td>500</td>\n",
              "    </tr>\n",
              "    <tr>\n",
              "      <th>2</th>\n",
              "      <td>104125</td>\n",
              "      <td>Collatino</td>\n",
              "      <td>Flat</td>\n",
              "      <td>3</td>\n",
              "      <td>80</td>\n",
              "      <td>1</td>\n",
              "      <td>Upper</td>\n",
              "      <td>4.0</td>\n",
              "      <td>950</td>\n",
              "    </tr>\n",
              "    <tr>\n",
              "      <th>3</th>\n",
              "      <td>104675</td>\n",
              "      <td>Infernetto</td>\n",
              "      <td>Flat</td>\n",
              "      <td>3</td>\n",
              "      <td>75</td>\n",
              "      <td>0</td>\n",
              "      <td>Upper</td>\n",
              "      <td>2.0</td>\n",
              "      <td>800</td>\n",
              "    </tr>\n",
              "    <tr>\n",
              "      <th>4</th>\n",
              "      <td>102481</td>\n",
              "      <td>Ostia</td>\n",
              "      <td>Flat</td>\n",
              "      <td>3</td>\n",
              "      <td>70</td>\n",
              "      <td>1</td>\n",
              "      <td>Ground floor</td>\n",
              "      <td>0.0</td>\n",
              "      <td>800</td>\n",
              "    </tr>\n",
              "  </tbody>\n",
              "</table>\n",
              "</div>"
            ],
            "text/plain": [
              "   House_ID Neighborhood Property_type  ...    Floor_type  Floor_number  Rent\n",
              "0    103501       Cassia          Flat  ...         Upper           2.0   900\n",
              "1    105122    Collatino          Flat  ...  Ground floor           0.0   500\n",
              "2    104125    Collatino          Flat  ...         Upper           4.0   950\n",
              "3    104675   Infernetto          Flat  ...         Upper           2.0   800\n",
              "4    102481        Ostia          Flat  ...  Ground floor           0.0   800\n",
              "\n",
              "[5 rows x 9 columns]"
            ]
          },
          "metadata": {
            "tags": []
          },
          "execution_count": 50
        }
      ]
    },
    {
      "cell_type": "markdown",
      "metadata": {
        "id": "bIg1jYF3pAM8"
      },
      "source": [
        "Let's partition the full data set into a training and a test data set through random sampling, leveraging the function `train_test_split()`. "
      ]
    },
    {
      "cell_type": "code",
      "metadata": {
        "id": "UG-4TBmPOf7C"
      },
      "source": [
        "train_set, test_set = train_test_split(full_data, test_size=0.3) # 70% training and 30% test partitioning"
      ],
      "execution_count": 51,
      "outputs": []
    },
    {
      "cell_type": "markdown",
      "metadata": {
        "id": "O2rVyfyOpUQU"
      },
      "source": [
        "We can now proceed with training the model through an **Ordinary Least Square** regression which is implemented in function `smf.ols()`. \n",
        "You can edit the formula string you find in the code (`Rent ~ Rooms + Surface + ...`) to select which column is the target (in our case `Rent`) and which other columns should be used as predictors in the linear regression. Categorical columns need to be encapsulated by the `C()` function (like in `C(Neighborhood)`): by doing so, Python converts them into multiple numerical columns (**Dummy variables**) that are compatible with a linear regression model. Finally, the `summary()` function produces a summary of the regression results, including coefficients and p-values for each feature."
      ]
    },
    {
      "cell_type": "code",
      "metadata": {
        "id": "4pJlO88NOqJQ",
        "colab": {
          "base_uri": "https://localhost:8080/",
          "height": 0
        },
        "outputId": "45501865-70a6-40f9-e91d-4ffb75e442fe"
      },
      "source": [
        "model = smf.ols (formula='Rent ~ Rooms + Surface + Elevator + Floor_number + \\\n",
        "                                 C(Neighborhood) + C(Property_type) + \\\n",
        "                                 C(Floor_type)',data=train_set).fit() # Train the model\n",
        "print(model.summary()) # Display model statistics and coefficients"
      ],
      "execution_count": 52,
      "outputs": [
        {
          "output_type": "stream",
          "text": [
            "                            OLS Regression Results                            \n",
            "==============================================================================\n",
            "Dep. Variable:                   Rent   R-squared:                       0.931\n",
            "Model:                            OLS   Adj. R-squared:                  0.930\n",
            "Method:                 Least Squares   F-statistic:                     1286.\n",
            "Date:                Sun, 25 Jul 2021   Prob (F-statistic):               0.00\n",
            "Time:                        12:57:03   Log-Likelihood:                -17138.\n",
            "No. Observations:                2800   AIC:                         3.434e+04\n",
            "Df Residuals:                    2770   BIC:                         3.451e+04\n",
            "Df Model:                          29                                         \n",
            "Covariance Type:            nonrobust                                         \n",
            "======================================================================================================\n",
            "                                         coef    std err          t      P>|t|      [0.025      0.975]\n",
            "------------------------------------------------------------------------------------------------------\n",
            "Intercept                            567.0761     22.490     25.215      0.000     522.978     611.174\n",
            "C(Neighborhood)[T.Cassia]           -359.4917     22.668    -15.859      0.000    -403.940    -315.043\n",
            "C(Neighborhood)[T.Castelli Romani]  -696.5811     21.992    -31.675      0.000    -739.703    -653.460\n",
            "C(Neighborhood)[T.Cinecittà]        -567.9157     22.201    -25.581      0.000    -611.448    -524.383\n",
            "C(Neighborhood)[T.Collatino]        -552.7227     22.428    -24.644      0.000    -596.701    -508.745\n",
            "C(Neighborhood)[T.EUR]              -402.7789     26.779    -15.041      0.000    -455.288    -350.270\n",
            "C(Neighborhood)[T.Infernetto]       -601.9284     23.029    -26.138      0.000    -647.083    -556.773\n",
            "C(Neighborhood)[T.Magliana]         -599.2370     33.000    -18.159      0.000    -663.945    -534.529\n",
            "C(Neighborhood)[T.Marconi]          -488.1459     24.694    -19.768      0.000    -536.567    -439.725\n",
            "C(Neighborhood)[T.Montagnola]       -467.0944     25.219    -18.521      0.000    -516.545    -417.644\n",
            "C(Neighborhood)[T.Monte sacro]      -512.8984     22.442    -22.855      0.000    -556.903    -468.894\n",
            "C(Neighborhood)[T.Monti]            -102.8431     23.122     -4.448      0.000    -148.182     -57.505\n",
            "C(Neighborhood)[T.Ostia]            -555.5006     26.525    -20.943      0.000    -607.510    -503.491\n",
            "C(Neighborhood)[T.Parioli]          -195.7433     21.870     -8.950      0.000    -238.627    -152.860\n",
            "C(Neighborhood)[T.Piazza Navona]     234.1949     22.231     10.535      0.000     190.604     277.786\n",
            "C(Neighborhood)[T.Portuense]        -507.3857     30.926    -16.407      0.000    -568.025    -446.746\n",
            "C(Neighborhood)[T.Prati]            -167.4902     22.204     -7.543      0.000    -211.028    -123.952\n",
            "C(Neighborhood)[T.Termini]          -251.8464     23.943    -10.519      0.000    -298.794    -204.899\n",
            "C(Neighborhood)[T.Testaccio]        -189.1236     29.240     -6.468      0.000    -246.457    -131.790\n",
            "C(Neighborhood)[T.Trastevere]        -67.1782     23.748     -2.829      0.005    -113.744     -20.613\n",
            "C(Neighborhood)[T.Trigoria]         -507.1393     27.838    -18.218      0.000    -561.724    -452.554\n",
            "C(Property_type)[T.House]             -0.6905     32.334     -0.021      0.983     -64.091      62.710\n",
            "C(Property_type)[T.Penthouse]         14.5069     11.546      1.256      0.209      -8.133      37.147\n",
            "C(Property_type)[T.Villa]            -20.4411     55.676     -0.367      0.714    -129.612      88.730\n",
            "C(Floor_type)[T.Mezzanine]            30.1353     11.618      2.594      0.010       7.355      52.916\n",
            "C(Floor_type)[T.Upper]                24.1025      7.157      3.368      0.001      10.069      38.136\n",
            "Rooms                                 20.0038      3.964      5.046      0.000      12.231      27.777\n",
            "Surface                                9.7001      0.133     72.751      0.000       9.439       9.962\n",
            "Elevator                              -2.5663      4.598     -0.558      0.577     -11.583       6.450\n",
            "Floor_number                           4.8361      1.468      3.295      0.001       1.958       7.714\n",
            "==============================================================================\n",
            "Omnibus:                      163.530   Durbin-Watson:                   2.021\n",
            "Prob(Omnibus):                  0.000   Jarque-Bera (JB):              487.125\n",
            "Skew:                          -0.269   Prob(JB):                    1.67e-106\n",
            "Kurtosis:                       4.971   Cond. No.                     3.60e+03\n",
            "==============================================================================\n",
            "\n",
            "Warnings:\n",
            "[1] Standard Errors assume that the covariance matrix of the errors is correctly specified.\n",
            "[2] The condition number is large, 3.6e+03. This might indicate that there are\n",
            "strong multicollinearity or other numerical problems.\n"
          ],
          "name": "stdout"
        }
      ]
    },
    {
      "cell_type": "markdown",
      "metadata": {
        "id": "s5AgnBdMrtWF"
      },
      "source": [
        "It's time to predict the values of the rents in the test set (it's what function *predict()* does) and, then, calculate two metrics for scoring our regression. In particular, we can calculate:\n",
        "*   $\\text{R}^{2}$: Coefficient of determination, thanks to the function `r2_score()`, which takes as parameters the two columns to compare, and\n",
        "*   $\\text{RMSE}$: Root Mean Squared Error, which gives us an idea of the level of error to expect (we need to combine functions `mean_squared_error()` and `np.sqrt()` to make the calculation).\n",
        "\n"
      ]
    },
    {
      "cell_type": "code",
      "metadata": {
        "colab": {
          "base_uri": "https://localhost:8080/",
          "height": 0
        },
        "id": "qGnT7tEvPJpY",
        "outputId": "c8a45f70-326c-425b-ea3f-f5a5754ab318"
      },
      "source": [
        "predictions =  model.predict(test_set) # Predict target on Test set\n",
        "print('R2 score is',r2_score(test_set.Rent,predictions)) # Calculate coefficient of determination\n",
        "print('Root Mean Squared Error is',np.sqrt(mean_squared_error(test_set.Rent,predictions))) # Calculate RMSE"
      ],
      "execution_count": 53,
      "outputs": [
        {
          "output_type": "stream",
          "text": [
            "R2 score is 0.9222298835652608\n",
            "Root Mean Squared Error is 113.2426739991985\n"
          ],
          "name": "stdout"
        }
      ]
    }
  ]
}